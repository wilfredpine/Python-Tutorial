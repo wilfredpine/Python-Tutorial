{
 "cells": [
  {
   "cell_type": "code",
   "execution_count": 1,
   "metadata": {},
   "outputs": [
    {
     "name": "stdout",
     "output_type": "stream",
     "text": [
      "summarize_multiple_doc\n",
      "Proceed to summarization and return the summary of multiple document.\n"
     ]
    }
   ],
   "source": [
    "# Determine the action based on the prompt\n",
    "def classify_prompt(prompt):\n",
    "    \n",
    "    search_keys = {\n",
    "        \"summarize_multiple_doc\" : [\"all document\", \"all documents\", \"summary of all\", \"summarize of all\", \"summary all\", \"summarize all\", \"all summary\", \"all summarize\", \"multiple document\", \"multiple documents\", \"summary of multiple\", \"summarize of multiple\", \"summary multiple\", \"summarize multiple\", \"multiple summary\", \"multiple summarize\"],\n",
    "        \n",
    "        \"summarize_single_doc\" : [\"summary of the\", \"summarize the\", \"summary of a\", \"summarize a\", \"summary the\", \"summarize a\", \"summary of\", \"summarize of\"],\n",
    "        \n",
    "        \"list_all_doc\" : [\"list of all\", \"list of the\", \"list all\", \"list of\", \"all list\", \"list\", \"lists of all\", \"lists of the\", \"lists all\", \"lists of\", \"all lists\", \"lists\"],\n",
    "    }\n",
    "        \n",
    "    prompt_lower = prompt.lower()  # Lowercase for case-insensitive comparison\n",
    "    for key, keywords in search_keys.items():\n",
    "        if any(keyword in prompt_lower for keyword in keywords):\n",
    "            return key\n",
    "    return \"list_all_doc\"  # Return 'list_all_doc' if no keywords match\n",
    "\n",
    "\n",
    "# Prompts\n",
    "prompt = \"Give me the summary of all documents from year 2024.\"\n",
    "\n",
    "# Get the classification\n",
    "result = classify_prompt(prompt)\n",
    "print(result)\n",
    "\n",
    "\n",
    "if result == \"list_all_doc\":\n",
    "    print(\"Return the result from semantic filtering/search.\") \n",
    "elif result == \"summarize_multiple_doc\":\n",
    "    print(\"Proceed to summarization and return the summary of multiple document.\") \n",
    "elif result == \"summarize_single_doc\":\n",
    "    print(\"Proceed to summarization and return the summary of single document.\") "
   ]
  }
 ],
 "metadata": {
  "kernelspec": {
   "display_name": "nlpenv",
   "language": "python",
   "name": "python3"
  },
  "language_info": {
   "codemirror_mode": {
    "name": "ipython",
    "version": 3
   },
   "file_extension": ".py",
   "mimetype": "text/x-python",
   "name": "python",
   "nbconvert_exporter": "python",
   "pygments_lexer": "ipython3",
   "version": "3.9.12"
  }
 },
 "nbformat": 4,
 "nbformat_minor": 2
}
