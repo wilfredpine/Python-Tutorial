{
 "cells": [
  {
   "cell_type": "markdown",
   "metadata": {},
   "source": [
    "1. Set Up the Environment\n",
    "\n",
    "Before developing, make sure you have the necessary libraries installed:"
   ]
  },
  {
   "cell_type": "code",
   "execution_count": null,
   "metadata": {},
   "outputs": [],
   "source": [
    "'''pip install transformers torch'''"
   ]
  },
  {
   "cell_type": "markdown",
   "metadata": {},
   "source": [
    "This setup installs the Hugging Face Transformers library, which includes pre-trained models, and PyTorch, which is required for running models."
   ]
  },
  {
   "cell_type": "markdown",
   "metadata": {},
   "source": [
    "2. Load the Pre-trained Summarization Model\n",
    "\n",
    "Choose a model from the Hugging Face library, such as T5 or BART, that’s well-suited for summarization tasks."
   ]
  },
  {
   "cell_type": "code",
   "execution_count": 1,
   "metadata": {},
   "outputs": [
    {
     "name": "stderr",
     "output_type": "stream",
     "text": [
      "d:\\Projects\\nlp\\nlpenv\\lib\\site-packages\\tqdm\\auto.py:21: TqdmWarning: IProgress not found. Please update jupyter and ipywidgets. See https://ipywidgets.readthedocs.io/en/stable/user_install.html\n",
      "  from .autonotebook import tqdm as notebook_tqdm\n",
      "d:\\Projects\\nlp\\nlpenv\\lib\\site-packages\\huggingface_hub\\file_download.py:139: UserWarning: `huggingface_hub` cache-system uses symlinks by default to efficiently store duplicated files but your machine does not support them in C:\\Users\\WVP\\.cache\\huggingface\\hub\\models--t5-small. Caching files will still work but in a degraded version that might require more space on your disk. This warning can be disabled by setting the `HF_HUB_DISABLE_SYMLINKS_WARNING` environment variable. For more details, see https://huggingface.co/docs/huggingface_hub/how-to-cache#limitations.\n",
      "To support symlinks on Windows, you either need to activate Developer Mode or to run Python as an administrator. In order to activate developer mode, see this article: https://docs.microsoft.com/en-us/windows/apps/get-started/enable-your-device-for-development\n",
      "  warnings.warn(message)\n"
     ]
    }
   ],
   "source": [
    "from transformers import pipeline\n",
    "\n",
    "# Initialize the summarization pipeline with a pre-trained model\n",
    "summarizer = pipeline(\"summarization\", model=\"t5-small\")  # You could also use \"facebook/bart-large-cnn\"\n"
   ]
  },
  {
   "cell_type": "markdown",
   "metadata": {},
   "source": [
    "The summarizer pipeline is now ready to handle single-document summarization. We’ll adapt it to handle multiple documents in the following steps."
   ]
  },
  {
   "cell_type": "markdown",
   "metadata": {},
   "source": [
    "3. Develop the Summarization Workflow for Multiple Documents\n",
    "\n",
    "Since you want to summarize multiple documents or data rows, you can approach it in two main ways:\n",
    "\n",
    "- Summarize each document individually and then combine these summaries.\n",
    "- Combine all documents into one text and then summarize the combined text.\n",
    "\n",
    "Option A: Summarize Each Document Individually\n",
    "\n",
    "- This method is suitable if each document needs to retain its individual summary, but you still want an overall overview of all documents."
   ]
  },
  {
   "cell_type": "code",
   "execution_count": 2,
   "metadata": {},
   "outputs": [
    {
     "name": "stdout",
     "output_type": "stream",
     "text": [
      "Summary of Document 1: o Renewable energy accounted for 29% of global electricity production in 2022 . countries with significant renewable energy infrastructure report lower energy costs and reduced reliance on imported fuels .\n",
      "Summary of Document 2: AI is revolutionizing numerous sectors, with healthcare being one of the most impacted . the integration of AI into healthcare systems is expected to grow exponentially over the next decade, leading to a paradigm shift in medical practices .\n"
     ]
    }
   ],
   "source": [
    "def summarize_documents_individually(documents):\n",
    "    summaries = []\n",
    "    for doc in documents:\n",
    "        # Summarize each document separately\n",
    "        summary = summarizer(doc, max_length=100, min_length=30, do_sample=False)[0]['summary_text']\n",
    "        summaries.append(summary)\n",
    "    return summaries\n",
    "\n",
    "# Sample usage\n",
    "documents = [\n",
    "'''Impact of Renewable Energy on Global Economy \n",
    "Abstract \n",
    "This paper examines the global economic impact of renewable energy adoption over the past \n",
    "decade. It analyzes how various countries are leveraging renewable resources such as solar, \n",
    "wind, and hydropower to drive economic growth, reduce dependency on fossil fuels, and \n",
    "mitigate climate change. The findings suggest a positive correlation between renewable energy \n",
    "investment and long-term economic sustainability. \n",
    "Introduction \n",
    "In recent years, renewable energy has emerged as a key component of global efforts to \n",
    "transition to more sustainable and environmentally friendly energy sources. With growing \n",
    "concerns about climate change and depleting fossil fuel reserves, countries around the world \n",
    "are increasing investments in renewable technologies. \n",
    "Key Findings \n",
    "1. Global Renewable Energy Trends: \n",
    "o Renewable energy accounted for 29% of global electricity production in 2022. \n",
    "o Countries like Germany, China, and the United States are leading the adoption of \n",
    "solar and wind energy technologies. \n",
    "2. Economic Benefits: \n",
    "o Renewable energy creates job opportunities across various sectors, including \n",
    "manufacturing, construction, and research. \n",
    "o Countries with significant renewable energy infrastructure report lower energy \n",
    "costs and reduced reliance on imported fuels. \n",
    "3. Challenges: \n",
    "o Initial investment costs for renewable energy infrastructure are still relatively \n",
    "high. \n",
    "o Some developing countries struggle with access to capital and technology for \n",
    "large-scale renewable energy projects. \n",
    "Conclusion \n",
    "The transition to renewable energy presents both opportunities and challenges for the global \n",
    "economy. While initial costs can be significant, the long-term benefits include energy security, \n",
    "job creation, and environmental sustainability. \n",
    "Keywords \n",
    "Renewable Energy, Economy, Global Growth, Solar Power, Wind Energy \n",
    "Authors \n",
    "John Doe, Jane Smith \n",
    "References \n",
    "1. International Renewable Energy Agency (IRENA), \"Renewable Energy and Jobs – Annual \n",
    "Review 2023.\" \n",
    "2. United Nations Climate Change Conference, \"The Role of Renewable Energy in the \n",
    "Global Economy,\" 2022. ''',\n",
    "'''The Role of Artificial Intelligence in Healthcare Innovation \n",
    "Abstract \n",
    "This paper explores the increasing role of Artificial Intelligence (AI) in transforming the \n",
    "healthcare industry. By analyzing the latest AI-based technologies such as predictive analytics, \n",
    "machine learning, and robotic surgery, the study provides insights into how these innovations \n",
    "are improving patient outcomes, reducing costs, and shaping the future of healthcare \n",
    "delivery. \n",
    "Introduction \n",
    "Artificial Intelligence is revolutionizing numerous sectors, with healthcare being one of the \n",
    "most impacted. From early diagnostics to personalized treatments, AI is enabling healthcare \n",
    "professionals to make faster, more accurate decisions. The integration of AI into healthcare \n",
    "systems is expected to grow exponentially over the next decade, leading to a paradigm shift in \n",
    "medical practices. \n",
    "Key Findings \n",
    "1. AI in Diagnostics: \n",
    "o AI-based diagnostic tools can analyze medical imaging data, such as X-rays and \n",
    "MRIs, to detect diseases like cancer and heart conditions with higher accuracy \n",
    "than traditional methods. \n",
    "o Predictive analytics is being used to identify at-risk patients, allowing for earlier \n",
    "interventions and better outcomes. \n",
    "2. AI in Treatment Personalization: \n",
    "o Machine learning algorithms are helping doctors develop personalized \n",
    "treatment plans by analyzing patient data, including genetic information, \n",
    "lifestyle, and past medical history. \n",
    "o AI-assisted robotic surgery is improving precision and reducing recovery times \n",
    "for patients undergoing complex procedures. \n",
    "3. Challenges in AI Adoption: \n",
    "o The implementation of AI technologies in healthcare is often hindered by \n",
    "concerns over data privacy, especially in terms of patient information. \n",
    "o There is also a learning curve for healthcare professionals who need to be \n",
    "trained to effectively use AI tools in their practice. \n",
    "Conclusion \n",
    "Artificial Intelligence holds tremendous potential to revolutionize healthcare, offering \n",
    "enhanced diagnostic capabilities, personalized treatment, and increased efficiency. However, \n",
    "successful integration into healthcare systems requires overcoming regulatory, ethical, and \n",
    "technical challenges. \n",
    "Keywords \n",
    "Artificial Intelligence, Healthcare, Predictive Analytics, Machine Learning, Robotic Surgery \n",
    "Authors \n",
    "Alice Johnson, Michael Brown \n",
    "References \n",
    "1. Smith, John, \"AI in Medicine: Opportunities and Challenges,\" Journal of Healthcare \n",
    "Innovation, 2023. \n",
    "2. World Health Organization, \"Artificial Intelligence in Global Health: The Road Ahead,\" \n",
    "2022. ''',\n",
    "    # Add more documents\n",
    "]\n",
    "individual_summaries = summarize_documents_individually(documents)\n",
    "\n",
    "for i, summary in enumerate(individual_summaries):\n",
    "    print(f\"Summary of Document {i+1}: {summary}\")\n"
   ]
  },
  {
   "cell_type": "markdown",
   "metadata": {},
   "source": [
    "Here, max_length and min_length control the summary length. Adjust these based on your requirements."
   ]
  },
  {
   "cell_type": "markdown",
   "metadata": {},
   "source": [
    "Option B: Summarize Combined Documents\n",
    "\n",
    "If you prefer one comprehensive summary, concatenate the documents into a single text block, then summarize."
   ]
  },
  {
   "cell_type": "code",
   "execution_count": 3,
   "metadata": {},
   "outputs": [
    {
     "name": "stderr",
     "output_type": "stream",
     "text": [
      "Token indices sequence length is longer than the specified maximum sequence length for this model (844 > 512). Running this sequence through the model will result in indexing errors\n"
     ]
    },
    {
     "name": "stdout",
     "output_type": "stream",
     "text": [
      "Combined Summary: renewable energy has emerged as a key component of global efforts to transition to more sustainable and environmentally friendly energy sources . o Renewable energy accounted for 29% of global electricity production in 2022 . countries with significant renewable energy infrastructure report lower energy costs and reduced reliance on imported fuels .\n"
     ]
    }
   ],
   "source": [
    "def summarize_combined_documents(documents):\n",
    "    combined_text = \" \".join(documents)\n",
    "    # Summarize the combined text\n",
    "    summary = summarizer(combined_text, max_length=150, min_length=50, do_sample=False)[0]['summary_text']\n",
    "    return summary\n",
    "\n",
    "# Sample usage\n",
    "combined_summary = summarize_combined_documents(documents)\n",
    "print(\"Combined Summary:\", combined_summary)\n"
   ]
  },
  {
   "cell_type": "markdown",
   "metadata": {},
   "source": [
    "This approach works well if the combined length of documents does not exceed the model’s token limit (usually around 1024 tokens for T5-small). For larger document sets, you may need to break them into chunks, summarize each, and then combine these summaries into a final summary."
   ]
  },
  {
   "cell_type": "markdown",
   "metadata": {},
   "source": [
    "4. Handling Long Documents with Chunking\n",
    "\n",
    "If your documents are lengthy and exceed the model’s maximum token length, implement a chunking strategy to divide each document into smaller parts. Then summarize each chunk and merge the summaries."
   ]
  },
  {
   "cell_type": "code",
   "execution_count": 4,
   "metadata": {},
   "outputs": [
    {
     "name": "stdout",
     "output_type": "stream",
     "text": [
      "Summary of Long Document: this paper explores the increasing role of Artificial Intelligence in healthcare innovation . by analyzing the latest AI-based technologies such as predictive analytics, machine learning, and robotic surgery . AI is enabling healthcare professionals to make faster decisions . the integration of AI into healthcare systems is expected to grow exponentially over the next decade, leading to a paradigm shift in medical practices . machine learning algorithms are helping doctors develop personalized treatment plans . o AI-assisted robotic surgery is improving precision and reducing recovery times for patients . AI technologies are often hindered by concerns over data privacy . healthcare professionals need to be trained to effectively use AI tools in their practice . successful integration into healthcare systems requires overcoming regulatory, ethical, and technical challenges . \"AI in medicine: Opportunities and challenges,\" Journal of Healthcare Innovation, 2023 .\n"
     ]
    }
   ],
   "source": [
    "def summarize_long_document(document, chunk_size=512):\n",
    "    chunks = [document[i:i + chunk_size] for i in range(0, len(document), chunk_size)]\n",
    "    chunk_summaries = []\n",
    "    for chunk in chunks:\n",
    "        summary = summarizer(chunk, max_length=60, min_length=20, do_sample=False)[0]['summary_text']\n",
    "        chunk_summaries.append(summary)\n",
    "    # Combine summaries of each chunk\n",
    "    return \" \".join(chunk_summaries)\n",
    "\n",
    "# Usage for a single long document\n",
    "long_document = '''The Role of Artificial Intelligence in Healthcare Innovation \n",
    "Abstract \n",
    "This paper explores the increasing role of Artificial Intelligence (AI) in transforming the \n",
    "healthcare industry. By analyzing the latest AI-based technologies such as predictive analytics, \n",
    "machine learning, and robotic surgery, the study provides insights into how these innovations \n",
    "are improving patient outcomes, reducing costs, and shaping the future of healthcare \n",
    "delivery. \n",
    "Introduction \n",
    "Artificial Intelligence is revolutionizing numerous sectors, with healthcare being one of the \n",
    "most impacted. From early diagnostics to personalized treatments, AI is enabling healthcare \n",
    "professionals to make faster, more accurate decisions. The integration of AI into healthcare \n",
    "systems is expected to grow exponentially over the next decade, leading to a paradigm shift in \n",
    "medical practices. \n",
    "Key Findings \n",
    "1. AI in Diagnostics: \n",
    "o AI-based diagnostic tools can analyze medical imaging data, such as X-rays and \n",
    "MRIs, to detect diseases like cancer and heart conditions with higher accuracy \n",
    "than traditional methods. \n",
    "o Predictive analytics is being used to identify at-risk patients, allowing for earlier \n",
    "interventions and better outcomes. \n",
    "2. AI in Treatment Personalization: \n",
    "o Machine learning algorithms are helping doctors develop personalized \n",
    "treatment plans by analyzing patient data, including genetic information, \n",
    "lifestyle, and past medical history. \n",
    "o AI-assisted robotic surgery is improving precision and reducing recovery times \n",
    "for patients undergoing complex procedures. \n",
    "3. Challenges in AI Adoption: \n",
    "o The implementation of AI technologies in healthcare is often hindered by \n",
    "concerns over data privacy, especially in terms of patient information. \n",
    "o There is also a learning curve for healthcare professionals who need to be \n",
    "trained to effectively use AI tools in their practice. \n",
    "Conclusion \n",
    "Artificial Intelligence holds tremendous potential to revolutionize healthcare, offering \n",
    "enhanced diagnostic capabilities, personalized treatment, and increased efficiency. However, \n",
    "successful integration into healthcare systems requires overcoming regulatory, ethical, and \n",
    "technical challenges. \n",
    "Keywords \n",
    "Artificial Intelligence, Healthcare, Predictive Analytics, Machine Learning, Robotic Surgery \n",
    "Authors \n",
    "Alice Johnson, Michael Brown \n",
    "References \n",
    "1. Smith, John, \"AI in Medicine: Opportunities and Challenges,\" Journal of Healthcare \n",
    "Innovation, 2023. \n",
    "2. World Health Organization, \"Artificial Intelligence in Global Health: The Road Ahead,\" \n",
    "2022. '''\n",
    "summary = summarize_long_document(long_document)\n",
    "print(\"Summary of Long Document:\", summary)\n"
   ]
  },
  {
   "cell_type": "markdown",
   "metadata": {},
   "source": [
    "This technique allows you to process very large documents by summarizing each chunk individually, then combining those summaries."
   ]
  },
  {
   "cell_type": "markdown",
   "metadata": {},
   "source": [
    "5. Combining Summaries for Final Narrative (Optional)\n",
    "\n",
    "If you’re interested in creating a cohesive narrative from multiple summaries, use a second summarization pass to combine individual summaries."
   ]
  },
  {
   "cell_type": "code",
   "execution_count": 5,
   "metadata": {},
   "outputs": [
    {
     "name": "stderr",
     "output_type": "stream",
     "text": [
      "Your max_length is set to 150, but your input_length is only 88. Since this is a summarization task, where outputs shorter than the input are typically wanted, you might consider decreasing max_length manually, e.g. summarizer('...', max_length=44)\n"
     ]
    },
    {
     "name": "stdout",
     "output_type": "stream",
     "text": [
      "Final Narrative: o Renewable energy accounted for 29% of global electricity production in 2022 . countries with significant renewable energy infrastructure report lower energy costs and reduced reliance on imported fuels . AI is revolutionizing numerous sectors, with healthcare being one of the most impacted .\n"
     ]
    }
   ],
   "source": [
    "def create_final_narrative(summaries):\n",
    "    combined_summaries = \" \".join(summaries)\n",
    "    # Generate a high-level summary or narrative\n",
    "    final_narrative = summarizer(combined_summaries, max_length=150, min_length=50, do_sample=False)[0]['summary_text']\n",
    "    return final_narrative\n",
    "\n",
    "# Sample usage\n",
    "final_narrative = create_final_narrative(individual_summaries)\n",
    "print(\"Final Narrative:\", final_narrative)\n"
   ]
  },
  {
   "cell_type": "markdown",
   "metadata": {},
   "source": [
    "This step generates a single, refined summary or narrative from multiple individual summaries, providing a cohesive overview."
   ]
  }
 ],
 "metadata": {
  "kernelspec": {
   "display_name": "nlpenv",
   "language": "python",
   "name": "python3"
  },
  "language_info": {
   "codemirror_mode": {
    "name": "ipython",
    "version": 3
   },
   "file_extension": ".py",
   "mimetype": "text/x-python",
   "name": "python",
   "nbconvert_exporter": "python",
   "pygments_lexer": "ipython3",
   "version": "3.9.12"
  }
 },
 "nbformat": 4,
 "nbformat_minor": 2
}
