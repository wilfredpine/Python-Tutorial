{
 "cells": [
  {
   "cell_type": "markdown",
   "metadata": {},
   "source": [
    "### Use a Language Model Without Context\n",
    "\n",
    "Models like GPT-2, GPT-3, and T5 can generate answers to questions without an explicit context because they have been trained on large, diverse datasets and have a lot of general knowledge. For example, with T5, you could simply provide the question as input, and it will try to generate a plausible answer. Here’s how you can modify the T5 code:"
   ]
  },
  {
   "cell_type": "code",
   "execution_count": null,
   "metadata": {},
   "outputs": [],
   "source": [
    "from transformers import T5ForConditionalGeneration, T5Tokenizer\n",
    "\n",
    "# Initialize T5 model and tokenizer\n",
    "model_name = \"t5-small\"  # Adjust size if needed (e.g., t5-base, t5-large)\n",
    "tokenizer = T5Tokenizer.from_pretrained(model_name)\n",
    "model = T5ForConditionalGeneration.from_pretrained(model_name)\n",
    "\n",
    "# Define a general question without context\n",
    "question = \"What is the capital of France?\"\n",
    "\n",
    "# Preprocess input for T5 by framing it as a question\n",
    "input_text = f\"question: {question}\"\n",
    "input_ids = tokenizer(input_text, return_tensors=\"pt\").input_ids\n",
    "\n",
    "# Generate answer\n",
    "outputs = model.generate(input_ids)\n",
    "answer = tokenizer.decode(outputs[0], skip_special_tokens=True)\n",
    "\n",
    "print(f\"Question: {question}\")\n",
    "print(f\"Answer: {answer}\")\n"
   ]
  },
  {
   "cell_type": "markdown",
   "metadata": {},
   "source": [
    "## Use Open-Domain Question Answering: \n",
    "\n",
    "If your model requires context (like DistilBERT, which is specialized in question-answering with context), it might not perform well without one. However, there are models trained for \"open-domain question answering\" that are designed to generate answers directly, even without additional context. Some of these are available through Hugging Face, like facebook/bart-large-cnn or distilbert-base-uncased-distilled-squad (although this one typically performs better with context)."
   ]
  },
  {
   "cell_type": "code",
   "execution_count": null,
   "metadata": {},
   "outputs": [],
   "source": [
    "from transformers import pipeline\n",
    "\n",
    "# Initialize BART pipeline for open-domain question answering\n",
    "qa_pipeline = pipeline(\"question-answering\", model=\"facebook/bart-large-cnn\")\n",
    "\n",
    "# Define a general question and use a broad context or leave context empty\n",
    "question = \"Who is the current president of the United States?\"\n",
    "\n",
    "# Since BART requires context, a brief context can improve results. For truly open-ended questions, \n",
    "# we can create a dummy context if none is available.\n",
    "context = \"This is a general question about current events.\"\n",
    "\n",
    "# Generate answer\n",
    "result = qa_pipeline(question=question, context=context)\n",
    "\n",
    "print(f\"Question: {question}\")\n",
    "print(f\"Answer: {result['answer']}\")\n"
   ]
  },
  {
   "cell_type": "markdown",
   "metadata": {},
   "source": [
    "## Use Knowledge-Based APIs: \n",
    "\n",
    "If the model is unable to generate an answer without context, another approach is to use a knowledge-based API (like Wolfram Alpha or Wikipedia API) to fetch relevant information dynamically based on the question. Then you could input this retrieved data as context into a question-answering model."
   ]
  },
  {
   "cell_type": "markdown",
   "metadata": {},
   "source": [
    "pip install wikipedia-api\n"
   ]
  },
  {
   "cell_type": "code",
   "execution_count": null,
   "metadata": {},
   "outputs": [],
   "source": [
    "import wikipediaapi\n",
    "from transformers import pipeline, DistilBertTokenizer, DistilBertForQuestionAnswering\n",
    "\n",
    "# Initialize Wikipedia API\n",
    "wiki_wiki = wikipediaapi.Wikipedia('en')\n",
    "\n",
    "def fetch_wikipedia_summary(topic):\n",
    "    \"\"\"Fetch summary from Wikipedia for a given topic.\"\"\"\n",
    "    page = wiki_wiki.page(topic)\n",
    "    if page.exists():\n",
    "        return page.summary[:500]  # Limiting to 500 characters for a brief context\n",
    "    else:\n",
    "        return \"No context available\"\n",
    "\n",
    "# Define a general question\n",
    "question = \"What is the Eiffel Tower?\"\n",
    "\n",
    "# Try to use the question's main topic as a search term for Wikipedia\n",
    "topic = question.split(\" \")[-1]  # Use the last word as a simple heuristic\n",
    "context = fetch_wikipedia_summary(topic)\n",
    "\n",
    "# Check if context was successfully retrieved\n",
    "if context != \"No context available\":\n",
    "    print(f\"Context: {context}\\n\")\n",
    "\n",
    "    # Initialize DistilBERT for question answering\n",
    "    model_name = \"distilbert-base-uncased-distilled-squad\"\n",
    "    tokenizer = DistilBertTokenizer.from_pretrained(model_name)\n",
    "    model = DistilBertForQuestionAnswering.from_pretrained(model_name)\n",
    "    qa_pipeline = pipeline(\"question-answering\", model=model, tokenizer=tokenizer)\n",
    "\n",
    "    # Get answer using the retrieved context\n",
    "    result = qa_pipeline(question=question, context=context)\n",
    "    print(f\"Question: {question}\")\n",
    "    print(f\"Answer: {result['answer']}\")\n",
    "else:\n",
    "    print(\"No relevant context found.\")\n"
   ]
  }
 ],
 "metadata": {
  "kernelspec": {
   "display_name": "Python 3",
   "language": "python",
   "name": "python3"
  },
  "language_info": {
   "codemirror_mode": {
    "name": "ipython",
    "version": 3
   },
   "file_extension": ".py",
   "mimetype": "text/x-python",
   "name": "python",
   "nbconvert_exporter": "python",
   "pygments_lexer": "ipython3",
   "version": "3.9.12"
  }
 },
 "nbformat": 4,
 "nbformat_minor": 2
}
