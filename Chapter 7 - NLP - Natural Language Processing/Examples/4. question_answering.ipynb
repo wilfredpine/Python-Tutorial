{
 "cells": [
  {
   "cell_type": "markdown",
   "metadata": {},
   "source": [
    "# T5"
   ]
  },
  {
   "cell_type": "markdown",
   "metadata": {},
   "source": [
    "'''pip install --upgrade transformers'''\n",
    "'''pip install sentencepiece'''"
   ]
  },
  {
   "cell_type": "code",
   "execution_count": null,
   "metadata": {},
   "outputs": [],
   "source": [
    "from transformers import T5ForConditionalGeneration, T5Tokenizer\n",
    "\n",
    "# Initialize T5 model and tokenizer\n",
    "model_name = \"t5-small\"  # You can use 't5-base' or 't5-large' for better accuracy\n",
    "tokenizer = T5Tokenizer.from_pretrained(model_name)\n",
    "model = T5ForConditionalGeneration.from_pretrained(model_name)\n",
    "\n",
    "# Define your question and context\n",
    "context = \"The Eiffel Tower is located in Paris and is one of the most recognizable landmarks in the world.\"\n",
    "question = \"Where is the Eiffel Tower located?\"\n",
    "\n",
    "# Preprocess input for T5 by framing it as a question with context\n",
    "input_text = f\"question: {question} context: {context}\"\n",
    "input_ids = tokenizer(input_text, return_tensors=\"pt\").input_ids\n",
    "\n",
    "# Generate answer\n",
    "outputs = model.generate(input_ids)\n",
    "answer = tokenizer.decode(outputs[0], skip_special_tokens=True)\n",
    "\n",
    "print(f\"Question: {question}\")\n",
    "print(f\"Answer: {answer}\")\n"
   ]
  },
  {
   "cell_type": "markdown",
   "metadata": {},
   "source": [
    "# DistilBERT "
   ]
  },
  {
   "cell_type": "code",
   "execution_count": 1,
   "metadata": {},
   "outputs": [
    {
     "name": "stderr",
     "output_type": "stream",
     "text": [
      "d:\\2024-2025 SEM 1\\Event-Driven Programming\\Modules\\Part 10 - NLP\\nlp-semanticfiltering-promptclassification-summarization\\nlpenv\\lib\\site-packages\\tqdm\\auto.py:21: TqdmWarning: IProgress not found. Please update jupyter and ipywidgets. See https://ipywidgets.readthedocs.io/en/stable/user_install.html\n",
      "  from .autonotebook import tqdm as notebook_tqdm\n"
     ]
    },
    {
     "name": "stdout",
     "output_type": "stream",
     "text": [
      "Question: What is one of the most recognizable landmarks in the world? \n",
      "Answer: The Eiffel Tower\n"
     ]
    }
   ],
   "source": [
    "from transformers import DistilBertTokenizer, DistilBertForQuestionAnswering, pipeline\n",
    "\n",
    "# Initialize DistilBERT model and tokenizer\n",
    "model_name = \"distilbert-base-uncased-distilled-squad\"\n",
    "tokenizer = DistilBertTokenizer.from_pretrained(model_name)\n",
    "model = DistilBertForQuestionAnswering.from_pretrained(model_name)\n",
    "\n",
    "# Define your question and context\n",
    "context = \"The Eiffel Tower is located in Paris and is one of the most recognizable landmarks in the world.\"\n",
    "question = \"What is one of the most recognizable landmarks in the world? \"\n",
    "\n",
    "# Use pipeline for question-answering\n",
    "qa_pipeline = pipeline(\"question-answering\", model=model, tokenizer=tokenizer)\n",
    "result = qa_pipeline(question=question, context=context)\n",
    "\n",
    "print(f\"Question: {question}\")\n",
    "print(f\"Answer: {result['answer']}\")\n"
   ]
  },
  {
   "cell_type": "code",
   "execution_count": 5,
   "metadata": {},
   "outputs": [
    {
     "name": "stdout",
     "output_type": "stream",
     "text": [
      "Question: What is one of the most recognizable landmarks in the world?\n",
      "Answer: The Eiffel Tower\n",
      "\n",
      "Question: Where is the Eiffel Tower located?\n",
      "Answer: Paris\n",
      "\n",
      "Question: What is located in Paris?\n",
      "Answer: Eiffel Tower\n",
      "\n",
      "Question: What is Eiffel Tower?\n",
      "Answer: one of the most recognizable landmarks in the world.\n",
      "\n"
     ]
    }
   ],
   "source": [
    "from transformers import DistilBertTokenizer, DistilBertForQuestionAnswering, pipeline\n",
    "\n",
    "# Initialize DistilBERT model and tokenizer\n",
    "model_name = \"distilbert-base-uncased-distilled-squad\"\n",
    "tokenizer = DistilBertTokenizer.from_pretrained(model_name)\n",
    "model = DistilBertForQuestionAnswering.from_pretrained(model_name)\n",
    "\n",
    "# Define your context and list of questions\n",
    "context = \"The Eiffel Tower is located in Paris and is one of the most recognizable landmarks in the world.\"\n",
    "questions = [\n",
    "    \"What is one of the most recognizable landmarks in the world?\",\n",
    "    \"Where is the Eiffel Tower located?\",\n",
    "    \"What is located in Paris?\",\n",
    "    \"What is Eiffel Tower?\"\n",
    "]\n",
    "\n",
    "# Use pipeline for question-answering\n",
    "qa_pipeline = pipeline(\"question-answering\", model=model, tokenizer=tokenizer)\n",
    "\n",
    "# Loop through each question and get answers\n",
    "for question in questions:\n",
    "    result = qa_pipeline(question=question, context=context)\n",
    "    print(f\"Question: {question}\")\n",
    "    print(f\"Answer: {result['answer']}\\n\")\n"
   ]
  },
  {
   "cell_type": "code",
   "execution_count": 7,
   "metadata": {},
   "outputs": [
    {
     "name": "stdout",
     "output_type": "stream",
     "text": [
      "Question: What is Artificial Intelligence or AI?\n",
      "Answer: Global Health:\n",
      "\n",
      "Question: What is the benefits of AI?\n",
      "Answer: increasing role of Artificial Intelligence (AI) in transforming the healthcare industry.\n",
      "\n",
      "Question: How to use AI?\n",
      "Answer: diagnostic tools\n",
      "\n",
      "Question: How AI helps Healthcare?\n",
      "Answer: AI in Treatment Personalization: o Machine learning algorithms\n",
      "\n",
      "Question: Why AI is important?\n",
      "Answer: increasing role of Artificial Intelligence (AI) in transforming the healthcare industry.\n",
      "\n",
      "Question: What technology used in the documents?\n",
      "Answer: predictive analytics, machine learning, and robotic surgery,\n",
      "\n"
     ]
    }
   ],
   "source": [
    "from transformers import DistilBertTokenizer, DistilBertForQuestionAnswering, pipeline\n",
    "\n",
    "# Initialize DistilBERT model and tokenizer\n",
    "model_name = \"distilbert-base-uncased-distilled-squad\"\n",
    "tokenizer = DistilBertTokenizer.from_pretrained(model_name)\n",
    "model = DistilBertForQuestionAnswering.from_pretrained(model_name)\n",
    "\n",
    "# Define your context and list of questions\n",
    "long_document = '''The Role of Artificial Intelligence in Healthcare Innovation \n",
    "Abstract \n",
    "This paper explores the increasing role of Artificial Intelligence (AI) in transforming the \n",
    "healthcare industry. By analyzing the latest AI-based technologies such as predictive analytics, \n",
    "machine learning, and robotic surgery, the study provides insights into how these innovations \n",
    "are improving patient outcomes, reducing costs, and shaping the future of healthcare \n",
    "delivery. \n",
    "Introduction \n",
    "Artificial Intelligence is revolutionizing numerous sectors, with healthcare being one of the \n",
    "most impacted. From early diagnostics to personalized treatments, AI is enabling healthcare \n",
    "professionals to make faster, more accurate decisions. The integration of AI into healthcare \n",
    "systems is expected to grow exponentially over the next decade, leading to a paradigm shift in \n",
    "medical practices. \n",
    "Key Findings \n",
    "1. AI in Diagnostics: \n",
    "o AI-based diagnostic tools can analyze medical imaging data, such as X-rays and \n",
    "MRIs, to detect diseases like cancer and heart conditions with higher accuracy \n",
    "than traditional methods. \n",
    "o Predictive analytics is being used to identify at-risk patients, allowing for earlier \n",
    "interventions and better outcomes. \n",
    "2. AI in Treatment Personalization: \n",
    "o Machine learning algorithms are helping doctors develop personalized \n",
    "treatment plans by analyzing patient data, including genetic information, \n",
    "lifestyle, and past medical history. \n",
    "o AI-assisted robotic surgery is improving precision and reducing recovery times \n",
    "for patients undergoing complex procedures. \n",
    "3. Challenges in AI Adoption: \n",
    "o The implementation of AI technologies in healthcare is often hindered by \n",
    "concerns over data privacy, especially in terms of patient information. \n",
    "o There is also a learning curve for healthcare professionals who need to be \n",
    "trained to effectively use AI tools in their practice. \n",
    "Conclusion \n",
    "Artificial Intelligence holds tremendous potential to revolutionize healthcare, offering \n",
    "enhanced diagnostic capabilities, personalized treatment, and increased efficiency. However, \n",
    "successful integration into healthcare systems requires overcoming regulatory, ethical, and \n",
    "technical challenges. \n",
    "Keywords \n",
    "Artificial Intelligence, Healthcare, Predictive Analytics, Machine Learning, Robotic Surgery \n",
    "Authors \n",
    "Alice Johnson, Michael Brown \n",
    "References \n",
    "1. Smith, John, \"AI in Medicine: Opportunities and Challenges,\" Journal of Healthcare \n",
    "Innovation, 2023. \n",
    "2. World Health Organization, \"Artificial Intelligence in Global Health: The Road Ahead,\" \n",
    "2022. '''\n",
    "context = long_document\n",
    "questions = [\n",
    "    \"What is Artificial Intelligence or AI?\",\n",
    "    \"What is the benefits of AI?\",\n",
    "    \"How to use AI?\",\n",
    "    \"How AI helps Healthcare?\",\n",
    "    \"Why AI is important?\",\n",
    "    \"What technology used in the documents?\"\n",
    "]\n",
    "\n",
    "# Use pipeline for question-answering\n",
    "qa_pipeline = pipeline(\"question-answering\", model=model, tokenizer=tokenizer)\n",
    "\n",
    "# Loop through each question and get answers\n",
    "for question in questions:\n",
    "    result = qa_pipeline(question=question, context=context)\n",
    "    print(f\"Question: {question}\")\n",
    "    print(f\"Answer: {result['answer']}\\n\")\n"
   ]
  }
 ],
 "metadata": {
  "kernelspec": {
   "display_name": "nlpenv",
   "language": "python",
   "name": "python3"
  },
  "language_info": {
   "codemirror_mode": {
    "name": "ipython",
    "version": 3
   },
   "file_extension": ".py",
   "mimetype": "text/x-python",
   "name": "python",
   "nbconvert_exporter": "python",
   "pygments_lexer": "ipython3",
   "version": "3.9.12"
  }
 },
 "nbformat": 4,
 "nbformat_minor": 2
}
